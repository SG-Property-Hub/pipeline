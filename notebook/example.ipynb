{
 "cells": [
  {
   "cell_type": "markdown",
   "metadata": {},
   "source": [
    "## export env\n",
    "export $(cat .env | xargs)"
   ]
  },
  {
   "cell_type": "code",
   "execution_count": 10,
   "metadata": {},
   "outputs": [
    {
     "name": "stdout",
     "output_type": "stream",
     "text": [
      "Connecting to MongoDB SGPropertyHub raw\n",
      "34759\n"
     ]
    }
   ],
   "source": [
    "import os\n",
    "from pymongo.mongo_client import MongoClient\n",
    "\n",
    "MONGODB_CONNECTION_STRING = os.environ['MONGODB_CONNECTION_STRING']\n",
    "MONGODB_DATABASE = os.environ['MONGODB_DATABASE']\n",
    "MONGODB_RAW_COLLECTION = os.environ['MONGODB_RAW_COLLECTION']\n",
    "\n",
    "MONGODB_RPROCESSED_COLLECTION = os.environ['MONGODB_PROCESSED_COLLECTION']\n",
    "#connect to connection\n",
    "client = MongoClient(MONGODB_CONNECTION_STRING)\n",
    "db = client[MONGODB_DATABASE]\n",
    "collection = db[MONGODB_RAW_COLLECTION]\n",
    "print(\"Connecting to MongoDB\", MONGODB_DATABASE, MONGODB_RAW_COLLECTION)\n",
    "\n",
    "#find one document\n",
    "document = collection.find({})\n",
    "data = list(document)\n",
    "print(len(data))"
   ]
  },
  {
   "cell_type": "code",
   "execution_count": 48,
   "metadata": {},
   "outputs": [
    {
     "ename": "TypeError",
     "evalue": "BaseModel.__init__() takes 1 positional argument but 2 were given",
     "output_type": "error",
     "traceback": [
      "\u001b[0;31m---------------------------------------------------------------------------\u001b[0m",
      "\u001b[0;31mTypeError\u001b[0m                                 Traceback (most recent call last)",
      "Cell \u001b[0;32mIn[48], line 12\u001b[0m\n\u001b[1;32m      9\u001b[0m     description: \u001b[39mstr\u001b[39m\n\u001b[1;32m     10\u001b[0m     floors: \u001b[39mint\u001b[39m\u001b[39m=\u001b[39m\u001b[39mNone\u001b[39;00m\n\u001b[0;32m---> 12\u001b[0m test \u001b[39m=\u001b[39m DataNew(data[\u001b[39m0\u001b[39;49m])\n",
      "\u001b[0;31mTypeError\u001b[0m: BaseModel.__init__() takes 1 positional argument but 2 were given"
     ]
    }
   ],
   "source": [
    "from pydantic import BaseModel\n",
    "\n",
    "class DataNew(BaseModel):\n",
    "    raw_id: str\n",
    "    category: str\n",
    "    region: str\n",
    "    ward: str\n",
    "    list_time: str\n",
    "    description: str\n",
    "    floors: int=None\n",
    "\n",
    "test = DataNew(data[0])"
   ]
  },
  {
   "cell_type": "code",
   "execution_count": 53,
   "metadata": {},
   "outputs": [
    {
     "name": "stdout",
     "output_type": "stream",
     "text": [
      "{'raw_id': '64f5ede00459b50fd4b6b9b0', 'category': 'Nhà ở', 'region': 'Tp Hồ Chí Minh', 'ward': 'Phường Cô Giang', 'list_time': 1693458004719, 'description': 'Giảm 30% , Ngộp Bank\\n\\n Toà Nhà Trần Hưng Đạo,p.Cô Giang, Q.1\\n-Diện tích: 18x20. Công nhận 340m2. Dt Sàn 1.872m2\\n- Hầm, Trệt, 8 Lầu, 2 Thang máy\\n- HĐT: 700tr/tháng \\n\\n- Đi nhanh 300tỷ ,  Chạm Đáy 200 hơn'}\n"
     ]
    }
   ],
   "source": [
    "import pandas as pd\n",
    "import json\n",
    "import hashlib\n",
    "\n",
    "def add_link_key(item):\n",
    "    area_str = ''\n",
    "    list_id_str = ''\n",
    "    try:\n",
    "        area_str = item['area_name'].replace(\" \", \"-\")\n",
    "        list_id_str = str(item['list_id'])\n",
    "    except:\n",
    "        pass\n",
    " \n",
    "    url = 'https://www.nhatot.com/mua-ban-nha-dat-{area}-tp-ho-chi-minh/{list_id}.htm'\n",
    "    item['url'] = url.format(area = area_str, list_id = list_id_str)\n",
    "    item['id'] = hashlib.sha1(url.encode('utf-8')).hexdigest()\n",
    "\n",
    "def data_test(item,key_name,value_name):\n",
    "        new_item = {}\n",
    "        new_item['raw_id'] = str(item['_id'])\n",
    "        for i in range(len(key_name)):\n",
    "            try:\n",
    "                new_item[key_name[i]]=item[value_name[i]]\n",
    "            except:\n",
    "                continue\n",
    "        return new_item\n",
    "\n",
    "data_new= []\n",
    "key_name=['category','region','ward','list_time','description','floors']\n",
    "value_name=['category_name','region_name','ward_name','list_time','body','floors']\n",
    "for i in data:\n",
    "    temp = data_test(i, key_name, value_name)\n",
    "    data_new.append(temp)\n",
    "\n",
    "\n",
    "print(data_new[1])"
   ]
  },
  {
   "cell_type": "code",
   "execution_count": 57,
   "metadata": {},
   "outputs": [
    {
     "data": {
      "text/plain": [
       "<pymongo.results.BulkWriteResult at 0x7f2e9dc87280>"
      ]
     },
     "execution_count": 57,
     "metadata": {},
     "output_type": "execute_result"
    }
   ],
   "source": [
    "from pymongo import UpdateOne\n",
    "\n",
    "processed = db[MONGODB_RPROCESSED_COLLECTION]\n",
    "\n",
    "update_operations = []\n",
    "for item in data_new:\n",
    "    update_operations.append(\n",
    "        UpdateOne(\n",
    "            {\"raw_id\": item['raw_id']},\n",
    "            {\"$set\": item}\n",
    "        )\n",
    "    )\n",
    "\n",
    "processed.bulk_write(update_operations)"
   ]
  },
  {
   "cell_type": "code",
   "execution_count": 40,
   "metadata": {},
   "outputs": [
    {
     "name": "stdout",
     "output_type": "stream",
     "text": [
      "{'raw_id': '64f5ede00459b50fd4b6b9af', 'category': 'Nhà ở', 'region': 'Tp Hồ Chí Minh', 'ward': 'Phường Nguyễn Cư Trinh', 'list_time': 1693459941000, 'floors': 3, 'description': 'Nhà đường cống Quỳnh quận 1 dt 3.2*17 55m2 trệt lửng lầu 3ph ngủ nhà hẻm 3m 1/ chủ gấp bán  giải quyết công việc giá chào 7ty8 thương lượng cam kết nhà thật ko kê dưới mọi hình thức xem nhà 24/24'}\n",
      "{'raw_id': '64f5ede00459b50fd4b6b9b0', 'category': 'Nhà ở', 'region': 'Tp Hồ Chí Minh', 'ward': 'Phường Cô Giang', 'list_time': 1693458004719}\n"
     ]
    }
   ],
   "source": [
    "for item in data_new[:2]:\n",
    "    print(item)"
   ]
  }
 ],
 "metadata": {
  "kernelspec": {
   "display_name": "Python 3",
   "language": "python",
   "name": "python3"
  },
  "language_info": {
   "codemirror_mode": {
    "name": "ipython",
    "version": 3
   },
   "file_extension": ".py",
   "mimetype": "text/x-python",
   "name": "python",
   "nbconvert_exporter": "python",
   "pygments_lexer": "ipython3",
   "version": "3.10.12"
  },
  "orig_nbformat": 4
 },
 "nbformat": 4,
 "nbformat_minor": 2
}
