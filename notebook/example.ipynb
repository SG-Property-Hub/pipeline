{
 "cells": [
  {
   "cell_type": "markdown",
   "metadata": {},
   "source": [
    "## export env\n",
    "export $(cat .env | xargs)"
   ]
  },
  {
   "cell_type": "code",
   "execution_count": 1,
   "metadata": {},
   "outputs": [
    {
     "name": "stdout",
     "output_type": "stream",
     "text": [
      "Connecting to MongoDB SGPropertyHub raw\n",
      "Found document {'_id': ObjectId('64f5ede00459b50fd4b6b9af'), 'ad_id': 149578938, 'list_id': 109559324, 'list_time': 1693459941000, 'date': '11 phút trước', 'account_id': 199685, 'account_oid': '0884375cf607675b750f6c59a06da36c', 'account_name': 'huy', 'state': 'accepted', 'subject': 'nhà cống Quỳnh quận 1 dt 55m2 hẻm 1/ giá 7ty8 thương lượng', 'body': 'Nhà đường cống Quỳnh quận 1 dt 3.2*17 55m2 trệt lửng lầu 3ph ngủ nhà hẻm 3m 1/ chủ gấp bán  giải quyết công việc giá chào 7ty8 thương lượng cam kết nhà thật ko kê dưới mọi hình thức xem nhà 24/24', 'category': 1020, 'category_name': 'Nhà ở', 'area': 96, 'area_name': 'Quận 1', 'region': 13, 'region_name': 'Tp Hồ Chí Minh', 'company_ad': True, 'type': 's', 'price': 7800000000, 'price_string': '7,8 tỷ', 'image': 'https://cdn.chotot.com/DIYEG_JbUCQSH-JesmiQa6zCW-ElL7qDEqnfT3WSSwY/preset:listing/plain/1d509b223ab7bbf7d57dbbecc0cc295f-2841153460436950212.jpg', 'webp_image': 'https://cdn.chotot.com/PnzVS36Q7tCD2XKzxwm1pFtOdB84bTmBvJweqetSBXs/preset:listing/plain/1d509b223ab7bbf7d57dbbecc0cc295f-2841153460436950212.webp', 'videos': [], 'number_of_images': 3, 'avatar': 'https://cdn.chotot.com/uac2/199685', 'rooms': 3, 'property_legal_document': 1, 'size': 55, 'region_v2': 13000, 'area_v2': 13096, 'ward': 9225, 'ward_name': 'Phường Nguyễn Cư Trinh', 'direction': 6, 'toilets': 3, 'floors': 3, 'price_million_per_m2': 141.8181818181818, 'house_type': 3, 'furnishing_sell': 3, 'width': 3.2, 'length': 17, 'contain_videos': 2, 'location': '10.768306,106.684525', 'longitude': 106.684525, 'latitude': 10.768306, 'phone_hidden': True, 'owner': False, 'street_number': '1234', 'protection_entitlement': False, 'escrow_can_deposit': 2, 'params': [{'id': 'size', 'value': '55 m²', 'label': 'Diện tích sử dụng'}, {'id': 'rooms', 'value': '3 PN', 'label': 'Số phòng ngủ'}], 'zero_deposit': False, 'street_name': 'Cống Quỳnh', 'pty_jupiter': '0', 'label_campaigns': None, 'ad_labels': None, 'pty_characteristics': [2]}\n"
     ]
    }
   ],
   "source": [
    "import os\n",
    "from pymongo.mongo_client import MongoClient\n",
    "\n",
    "MONGODB_CONNECTION_STRING = os.environ['MONGODB_CONNECTION_STRING']\n",
    "MONGODB_DATABASE = os.environ['MONGODB_DATABASE']\n",
    "MONGODB_RAW_COLLECTION = os.environ['MONGODB_RAW_COLLECTION']\n",
    "\n",
    "#connect to connection\n",
    "client = MongoClient(MONGODB_CONNECTION_STRING)\n",
    "db = client[MONGODB_DATABASE]\n",
    "collection = db[MONGODB_RAW_COLLECTION]\n",
    "print(\"Connecting to MongoDB\", MONGODB_DATABASE, MONGODB_RAW_COLLECTION)\n",
    "\n",
    "#find one document\n",
    "document = collection.find_one()\n",
    "print(\"Found document\", document)"
   ]
  }
 ],
 "metadata": {
  "kernelspec": {
   "display_name": "Python 3",
   "language": "python",
   "name": "python3"
  },
  "language_info": {
   "codemirror_mode": {
    "name": "ipython",
    "version": 3
   },
   "file_extension": ".py",
   "mimetype": "text/x-python",
   "name": "python",
   "nbconvert_exporter": "python",
   "pygments_lexer": "ipython3",
   "version": "3.10.12"
  },
  "orig_nbformat": 4
 },
 "nbformat": 4,
 "nbformat_minor": 2
}
